{
 "cells": [
  {
   "cell_type": "markdown",
   "metadata": {
    "collapsed": false,
    "jupyter": {
     "outputs_hidden": false
    }
   },
   "source": [
    "<h1>SPH6004 Self Assignment 1</h1>\n",
    "<h2>Presented by GUO YUTONG(A0274654W)</h2>"
   ]
  },
  {
   "cell_type": "markdown",
   "metadata": {
    "collapsed": false,
    "jupyter": {
     "outputs_hidden": false
    }
   },
   "source": []
  },
  {
   "cell_type": "code",
   "execution_count": 1,
   "metadata": {
    "ExecuteTime": {
     "end_time": "2024-03-02T00:04:18.114489800Z",
     "start_time": "2024-03-02T00:04:18.100599900Z"
    },
    "collapsed": false,
    "jupyter": {
     "outputs_hidden": false
    }
   },
   "outputs": [],
   "source": [
    "%matplotlib inline\n",
    "import matplotlib.pyplot as plt\n",
    "import seaborn as sns\n",
    "import pandas as pd\n",
    "import numpy as np\n",
    "from sklearn.preprocessing import OneHotEncoder, OrdinalEncoder, StandardScaler, KBinsDiscretizer\n",
    "\n",
    "pd.set_option(\"display.max_columns\", None)\n",
    "pd.set_option(\"display.max_rows\", None)"
   ]
  },
  {
   "cell_type": "code",
   "execution_count": 2,
   "metadata": {
    "ExecuteTime": {
     "end_time": "2024-03-02T00:04:18.348754700Z",
     "start_time": "2024-03-02T00:04:18.116490300Z"
    },
    "collapsed": false,
    "jupyter": {
     "outputs_hidden": false
    }
   },
   "outputs": [],
   "source": [
    "data = pd.read_csv(\"../data/processed/data_dropped_columns.csv\", header=0)"
   ]
  },
  {
   "cell_type": "markdown",
   "metadata": {
    "collapsed": false,
    "jupyter": {
     "outputs_hidden": false
    }
   },
   "source": [
    "See all the values of the two text value columns"
   ]
  },
  {
   "cell_type": "code",
   "execution_count": 3,
   "metadata": {
    "ExecuteTime": {
     "end_time": "2024-03-02T00:04:18.363347700Z",
     "start_time": "2024-03-02T00:04:18.350985500Z"
    }
   },
   "outputs": [
    {
     "name": "stdout",
     "output_type": "stream",
     "text": [
      "gender\n",
      "F    22480\n",
      "M    28440\n",
      "Name: gender, dtype: int64 \n",
      "\n",
      "race\n",
      "AMERICAN INDIAN/ALASKA NATIVE                   87\n",
      "ASIAN                                          614\n",
      "ASIAN - ASIAN INDIAN                           121\n",
      "ASIAN - CHINESE                                547\n",
      "ASIAN - KOREAN                                  46\n",
      "ASIAN - SOUTH EAST ASIAN                       168\n",
      "BLACK/AFRICAN                                  194\n",
      "BLACK/AFRICAN AMERICAN                        3845\n",
      "BLACK/CAPE VERDEAN                             319\n",
      "BLACK/CARIBBEAN ISLAND                         282\n",
      "HISPANIC OR LATINO                             501\n",
      "HISPANIC/LATINO - CENTRAL AMERICAN              28\n",
      "HISPANIC/LATINO - COLUMBIAN                     39\n",
      "HISPANIC/LATINO - CUBAN                         40\n",
      "HISPANIC/LATINO - DOMINICAN                    337\n",
      "HISPANIC/LATINO - GUATEMALAN                   101\n",
      "HISPANIC/LATINO - HONDURAN                      33\n",
      "HISPANIC/LATINO - MEXICAN                       52\n",
      "HISPANIC/LATINO - PUERTO RICAN                 530\n",
      "HISPANIC/LATINO - SALVADORAN                    74\n",
      "MULTIPLE RACE/ETHNICITY                         49\n",
      "NATIVE HAWAIIAN OR OTHER PACIFIC ISLANDER       81\n",
      "OTHER                                         1745\n",
      "PATIENT DECLINED TO ANSWER                     371\n",
      "PORTUGUESE                                     161\n",
      "SOUTH AMERICAN                                  46\n",
      "UNABLE TO OBTAIN                               726\n",
      "UNKNOWN                                       5579\n",
      "WHITE                                        32637\n",
      "WHITE - BRAZILIAN                              100\n",
      "WHITE - EASTERN EUROPEAN                       119\n",
      "WHITE - OTHER EUROPEAN                         918\n",
      "WHITE - RUSSIAN                                430\n",
      "Name: race, dtype: int64\n"
     ]
    }
   ],
   "source": [
    "print(data[\"gender\"].groupby(data[\"gender\"]).size(), \"\\n\")\n",
    "print(data[\"race\"].groupby(data[\"race\"]).size())"
   ]
  },
  {
   "cell_type": "markdown",
   "metadata": {
    "collapsed": false,
    "jupyter": {
     "outputs_hidden": false
    }
   },
   "source": [
    "Change **gender** to one-hot encoding"
   ]
  },
  {
   "cell_type": "code",
   "execution_count": 4,
   "metadata": {
    "ExecuteTime": {
     "end_time": "2024-03-02T00:04:18.397001500Z",
     "start_time": "2024-03-02T00:04:18.364348700Z"
    },
    "collapsed": false,
    "jupyter": {
     "outputs_hidden": false
    }
   },
   "outputs": [],
   "source": [
    "category_encoder = OneHotEncoder(handle_unknown=\"error\")\n",
    "categories = data[[\"gender\", \"race\"]]\n",
    "new_category_values = category_encoder.fit_transform(categories).toarray()\n",
    "new_categories = [k for j in [i.tolist() for i in category_encoder.categories_] for k in j]\n",
    "data[new_categories] = new_category_values\n",
    "data = data.drop([\"gender\", \"race\"], axis=1)"
   ]
  },
  {
   "cell_type": "markdown",
   "metadata": {},
   "source": [
    "binning numerical values"
   ]
  },
  {
   "cell_type": "code",
   "execution_count": 5,
   "metadata": {},
   "outputs": [],
   "source": [
    "# numerical_values = data.columns.to_list()\n",
    "# for i in new_categories:\n",
    "#     numerical_values.remove(i)\n",
    "\n",
    "# numerical_values.remove(\"aki\")\n",
    "\n",
    "# est = KBinsDiscretizer(n_bins=10, encode='ordinal', strategy='uniform')\n",
    "# data_binned = est.fit_transform(data[numerical_values])\n",
    "# print(data_binned.head(10))"
   ]
  },
  {
   "cell_type": "markdown",
   "metadata": {},
   "source": [
    "binning the 4-levels *aki* categories into two boolean:\n",
    "<ul>\n",
    "    <li><b>1</b>: has aki, including level 1, 2 and 3</li>\n",
    "    <li><b>0</b>: no aki</li>\n",
    "</ul>"
   ]
  },
  {
   "cell_type": "code",
   "execution_count": 6,
   "metadata": {},
   "outputs": [],
   "source": [
    "data[\"aki\"] = data[\"aki\"].map(lambda x: 0 if x==0 else 1)"
   ]
  },
  {
   "cell_type": "code",
   "execution_count": 7,
   "metadata": {},
   "outputs": [],
   "source": [
    "data.to_csv(\"../data/processed/data_for_tree.csv\", index=False)"
   ]
  }
 ],
 "metadata": {
  "kernelspec": {
   "display_name": "Python 3 (ipykernel)",
   "language": "python",
   "name": "python3"
  },
  "language_info": {
   "codemirror_mode": {
    "name": "ipython",
    "version": 3
   },
   "file_extension": ".py",
   "mimetype": "text/x-python",
   "name": "python",
   "nbconvert_exporter": "python",
   "pygments_lexer": "ipython3",
   "version": "3.9.18"
  }
 },
 "nbformat": 4,
 "nbformat_minor": 4
}
